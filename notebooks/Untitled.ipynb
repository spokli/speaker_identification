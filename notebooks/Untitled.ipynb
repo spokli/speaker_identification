{
 "cells": [
  {
   "cell_type": "code",
   "execution_count": 1,
   "id": "6f9f8d2b-d61f-4692-afe1-b7cf0a0ffff7",
   "metadata": {},
   "outputs": [],
   "source": [
    "from sklearn import preprocessing\n",
    "from python_speech_features import mfcc, delta\n",
    "import numpy as np\n",
    "import noisereduce as nr\n",
    "from scipy.io import wavfile\n"
   ]
  },
  {
   "cell_type": "code",
   "execution_count": 2,
   "id": "11e47c44-ed7c-4680-848c-3a7d7e2e2551",
   "metadata": {},
   "outputs": [],
   "source": [
    "from pydub import AudioSegment\n",
    "from matplotlib import pyplot as plt"
   ]
  },
  {
   "cell_type": "markdown",
   "id": "7a91f0e6-b6b6-4a31-84f9-60083a2f7eab",
   "metadata": {},
   "source": [
    "## Feature Extraction"
   ]
  },
  {
   "cell_type": "code",
   "execution_count": 3,
   "id": "71245b84-a34a-41ce-8707-1125e621d93c",
   "metadata": {},
   "outputs": [],
   "source": [
    "rate, audio = wavfile.read(\"../data/03_preprocessed/PTT-20191230-WA0012.wav\")"
   ]
  },
  {
   "cell_type": "code",
   "execution_count": 4,
   "id": "f0281b48-6f0c-4595-bdbd-40d92fbc5b97",
   "metadata": {},
   "outputs": [
    {
     "data": {
      "text/plain": [
       "(476, 20)"
      ]
     },
     "execution_count": 4,
     "metadata": {},
     "output_type": "execute_result"
    }
   ],
   "source": [
    "mfcc_feature = mfcc(\n",
    "    audio, \n",
    "    rate,\n",
    "    winlen=0.020,\n",
    "    preemph=0.95, \n",
    "    numcep=20, \n",
    "    nfft=1024, \n",
    "    ceplifter=15, \n",
    "    highfreq=6000,\n",
    "    nfilt=55,\n",
    "    appendEnergy=False\n",
    ")\n",
    "mfcc_feature.shape"
   ]
  },
  {
   "cell_type": "code",
   "execution_count": 5,
   "id": "155bc77c-a502-4a32-a225-4bdd8d93c99f",
   "metadata": {},
   "outputs": [
    {
     "data": {
      "text/plain": [
       "[<matplotlib.lines.Line2D at 0x7f1569e90fd0>]"
      ]
     },
     "execution_count": 5,
     "metadata": {},
     "output_type": "execute_result"
    },
    {
     "data": {
      "image/png": "[encoded data removed]",
      "text/plain": [
       "<Figure size 432x288 with 1 Axes>"
      ]
     },
     "metadata": {
      "needs_background": "light"
     },
     "output_type": "display_data"
    }
   ],
   "source": [
    "plt.plot(mfcc_feature[0])"
   ]
  },
  {
   "cell_type": "code",
   "execution_count": 6,
   "id": "a6c65aba-a90b-4e04-b902-6d2e79cca423",
   "metadata": {},
   "outputs": [],
   "source": [
    "# feature scaling\n",
    "# mfcc_feature = preprocessing.scale(mfcc_feature)\n",
    "delta_feature = delta(mfcc_feature, 2) # calculating delta\n",
    "# stacking delta features with common features\n",
    "combined_features = np.hstack((mfcc_feature, delta_feature))"
   ]
  },
  {
   "cell_type": "code",
   "execution_count": null,
   "id": "d95733ba-fdfa-4067-b66a-e9d0f00ea1ec",
   "metadata": {},
   "outputs": [],
   "source": [
    "(rate, sig) = wavfile.read(\"../2_data/02_preprocessed/PTT-20191230-WA0012.wav\")\n",
    "features = extract_features(sig, rate)"
   ]
  },
  {
   "cell_type": "code",
   "execution_count": null,
   "id": "8d5ce9a8-42b2-41a9-8784-592e0c1cb5b7",
   "metadata": {},
   "outputs": [],
   "source": [
    "features.shape"
   ]
  },
  {
   "cell_type": "markdown",
   "id": "9454b64d-d99f-4479-af8d-645ada829317",
   "metadata": {},
   "source": [
    "## Voice activity identification\n",
    "\n",
    "Find segments of non-voice and remove them"
   ]
  },
  {
   "cell_type": "code",
   "execution_count": null,
   "id": "1f7c21b0-6437-478c-bed5-aa76ddc725d8",
   "metadata": {},
   "outputs": [],
   "source": [
    "rate, sig = wavfile.read(\"../2_data/02_preprocessed/PTT-20191230-WA0012.wav\")\n",
    "\n",
    "plt.plot(sig)\n",
    "plt.show()\n",
    "\n",
    "sig_short = shorten_array(sig, min_length=1000, min_value=1e6)\n",
    "plt.plot(sig_short)\n",
    "plt.show()\n",
    "\n",
    "length_reduction = 1 - len(sig_short) / len(sig)\n",
    "print(f\"Length reduced by {length_reduction:.2%}\")\n",
    "\n",
    "wavfile.write(data=sig_short, rate=rate, filename=\"../2_data/02_preprocessed/PTT-20191230-WA0012_short.wav\")"
   ]
  },
  {
   "cell_type": "code",
   "execution_count": null,
   "id": "7fb642f9-3d03-4749-8be8-e182df596302",
   "metadata": {},
   "outputs": [],
   "source": []
  },
  {
   "cell_type": "code",
   "execution_count": null,
   "id": "c3b3a74e-ab46-4ccb-86e4-199c98435bd3",
   "metadata": {},
   "outputs": [],
   "source": []
  }
 ],
 "metadata": {
  "kernelspec": {
   "display_name": "Python 3.9.12 ('spid')",
   "language": "python",
   "name": "python3"
  },
  "language_info": {
   "codemirror_mode": {
    "name": "ipython",
    "version": 3
   },
   "file_extension": ".py",
   "mimetype": "text/x-python",
   "name": "python",
   "nbconvert_exporter": "python",
   "pygments_lexer": "ipython3",
   "version": "3.9.12"
  },
  "vscode": {
   "interpreter": {
    "hash": "91f5f406c924ecc9c57c7db9dfe6afc4a90e0b4a747c2fe3ab0a8e06e6a530eb"
   }
  }
 },
 "nbformat": 4,
 "nbformat_minor": 5
}
