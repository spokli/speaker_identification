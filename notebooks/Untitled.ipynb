{
 "cells": [
  {
   "cell_type": "code",
   "execution_count": 1,
   "id": "d6c2dc45-3c4f-441a-a12c-b7ffea6a279c",
   "metadata": {},
   "outputs": [],
   "source": [
    "%load_ext autoreload\n",
    "%autoreload 2"
   ]
  },
  {
   "cell_type": "code",
   "execution_count": 12,
   "id": "6f9f8d2b-d61f-4692-afe1-b7cf0a0ffff7",
   "metadata": {},
   "outputs": [],
   "source": [
    "import os\n",
    "import numpy as np\n",
    "from src import config\n",
    "from src.preprocessing import _load_features, _load_labels, _remove_duplicate_labels"
   ]
  },
  {
   "cell_type": "code",
   "execution_count": 4,
   "id": "3764dcc2-60fa-44f0-a13b-d0e8769a27a3",
   "metadata": {},
   "outputs": [
    {
     "name": "stdout",
     "output_type": "stream",
     "text": [
      "/home/marco/speaker_identification\n"
     ]
    }
   ],
   "source": [
    "%cd /home/marco/speaker_identification\n",
    "features = _load_features(first_n_files=4)"
   ]
  },
  {
   "cell_type": "code",
   "execution_count": 18,
   "id": "58949b16-44bf-4f6c-ac23-f30e9f865f74",
   "metadata": {},
   "outputs": [],
   "source": [
    "df_labels = _load_labels()\n",
    "df_labels = _remove_duplicate_labels(df_labels)"
   ]
  },
  {
   "cell_type": "code",
   "execution_count": 19,
   "id": "b820106e-cba9-48c8-9b41-df91b37b124c",
   "metadata": {},
   "outputs": [
    {
     "data": {
      "text/html": [
       "<div>\n",
       "<style scoped>\n",
       "    .dataframe tbody tr th:only-of-type {\n",
       "        vertical-align: middle;\n",
       "    }\n",
       "\n",
       "    .dataframe tbody tr th {\n",
       "        vertical-align: top;\n",
       "    }\n",
       "\n",
       "    .dataframe thead th {\n",
       "        text-align: right;\n",
       "    }\n",
       "</style>\n",
       "<table border=\"1\" class=\"dataframe\">\n",
       "  <thead>\n",
       "    <tr style=\"text-align: right;\">\n",
       "      <th></th>\n",
       "      <th>filename</th>\n",
       "      <th>label_date</th>\n",
       "      <th>label_time</th>\n",
       "      <th>label</th>\n",
       "    </tr>\n",
       "  </thead>\n",
       "  <tbody>\n",
       "    <tr>\n",
       "      <th>0</th>\n",
       "      <td>PTT-20200113-WA0016</td>\n",
       "      <td>20220824</td>\n",
       "      <td>101700</td>\n",
       "      <td>Person 1</td>\n",
       "    </tr>\n",
       "    <tr>\n",
       "      <th>1</th>\n",
       "      <td>PTT-20200116-WA0000</td>\n",
       "      <td>20220824</td>\n",
       "      <td>101730</td>\n",
       "      <td>Person 2</td>\n",
       "    </tr>\n",
       "    <tr>\n",
       "      <th>2</th>\n",
       "      <td>PTT-20200117-WA0007</td>\n",
       "      <td>20220824</td>\n",
       "      <td>101800</td>\n",
       "      <td>Person 2</td>\n",
       "    </tr>\n",
       "    <tr>\n",
       "      <th>3</th>\n",
       "      <td>PTT-20200119-WA0013</td>\n",
       "      <td>20220824</td>\n",
       "      <td>101830</td>\n",
       "      <td>Person 1</td>\n",
       "    </tr>\n",
       "  </tbody>\n",
       "</table>\n",
       "</div>"
      ],
      "text/plain": [
       "              filename  label_date  label_time     label\n",
       "0  PTT-20200113-WA0016    20220824      101700  Person 1\n",
       "1  PTT-20200116-WA0000    20220824      101730  Person 2\n",
       "2  PTT-20200117-WA0007    20220824      101800  Person 2\n",
       "3  PTT-20200119-WA0013    20220824      101830  Person 1"
      ]
     },
     "execution_count": 19,
     "metadata": {},
     "output_type": "execute_result"
    }
   ],
   "source": [
    "labels"
   ]
  },
  {
   "cell_type": "code",
   "execution_count": null,
   "id": "3e0ba9b7-52cd-4c98-a5ef-f9b2e6a1f639",
   "metadata": {},
   "outputs": [],
   "source": []
  }
 ],
 "metadata": {
  "kernelspec": {
   "display_name": "Python 3 (ipykernel)",
   "language": "python",
   "name": "python3"
  },
  "language_info": {
   "codemirror_mode": {
    "name": "ipython",
    "version": 3
   },
   "file_extension": ".py",
   "mimetype": "text/x-python",
   "name": "python",
   "nbconvert_exporter": "python",
   "pygments_lexer": "ipython3",
   "version": "3.9.12"
  },
  "vscode": {
   "interpreter": {
    "hash": "91f5f406c924ecc9c57c7db9dfe6afc4a90e0b4a747c2fe3ab0a8e06e6a530eb"
   }
  }
 },
 "nbformat": 4,
 "nbformat_minor": 5
}
