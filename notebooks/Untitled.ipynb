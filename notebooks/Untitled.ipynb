{
 "cells": [
  {
   "cell_type": "code",
   "execution_count": 1,
   "id": "d6c2dc45-3c4f-441a-a12c-b7ffea6a279c",
   "metadata": {},
   "outputs": [],
   "source": [
    "%load_ext autoreload\n",
    "%autoreload 2"
   ]
  },
  {
   "cell_type": "code",
   "execution_count": 5,
   "id": "6f9f8d2b-d61f-4692-afe1-b7cf0a0ffff7",
   "metadata": {},
   "outputs": [],
   "source": [
    "import os\n",
    "import numpy as np\n",
    "from src import config"
   ]
  },
  {
   "cell_type": "code",
   "execution_count": 13,
   "id": "30c2f4bf-b693-4e74-bfbe-bed6c5baf2f5",
   "metadata": {},
   "outputs": [
    {
     "ename": "AttributeError",
     "evalue": "partially initialized module 'pandas' has no attribute 'core' (most likely due to a circular import)",
     "output_type": "error",
     "traceback": [
      "\u001b[0;31m---------------------------------------------------------------------------\u001b[0m",
      "\u001b[0;31mAttributeError\u001b[0m                            Traceback (most recent call last)",
      "Input \u001b[0;32mIn [13]\u001b[0m, in \u001b[0;36m<cell line: 1>\u001b[0;34m()\u001b[0m\n\u001b[0;32m----> 1\u001b[0m \u001b[38;5;28;01mfrom\u001b[39;00m \u001b[38;5;21;01msrc\u001b[39;00m\u001b[38;5;21;01m.\u001b[39;00m\u001b[38;5;21;01mtraining\u001b[39;00m \u001b[38;5;28;01mimport\u001b[39;00m _load_features, _load_labels, _remove_duplicate_labels\n",
      "File \u001b[0;32m~/speaker_identification/src/training.py:4\u001b[0m, in \u001b[0;36m<module>\u001b[0;34m\u001b[0m\n\u001b[1;32m      1\u001b[0m \u001b[38;5;28;01mimport\u001b[39;00m \u001b[38;5;21;01mos\u001b[39;00m\n\u001b[1;32m      3\u001b[0m \u001b[38;5;28;01mimport\u001b[39;00m \u001b[38;5;21;01mnumpy\u001b[39;00m \u001b[38;5;28;01mas\u001b[39;00m \u001b[38;5;21;01mnp\u001b[39;00m\n\u001b[0;32m----> 4\u001b[0m \u001b[38;5;28;01mimport\u001b[39;00m \u001b[38;5;21;01mpandas\u001b[39;00m \u001b[38;5;28;01mas\u001b[39;00m \u001b[38;5;21;01mpd\u001b[39;00m\n\u001b[1;32m      6\u001b[0m \u001b[38;5;28;01mfrom\u001b[39;00m \u001b[38;5;21;01msrc\u001b[39;00m \u001b[38;5;28;01mimport\u001b[39;00m config\n\u001b[1;32m      9\u001b[0m \u001b[38;5;28;01mdef\u001b[39;00m \u001b[38;5;21m_load_features\u001b[39m(first_n_files: \u001b[38;5;28mint\u001b[39m \u001b[38;5;241m=\u001b[39m \u001b[38;5;28;01mNone\u001b[39;00m) \u001b[38;5;241m-\u001b[39m\u001b[38;5;241m>\u001b[39m \u001b[38;5;28mdict\u001b[39m[\u001b[38;5;28mstr\u001b[39m, np\u001b[38;5;241m.\u001b[39mndarray]:\n",
      "File \u001b[0;32m~/anaconda3/envs/spid/lib/python3.9/site-packages/pandas/__init__.py:135\u001b[0m, in \u001b[0;36m<module>\u001b[0;34m\u001b[0m\n\u001b[1;32m    117\u001b[0m \u001b[38;5;28;01mfrom\u001b[39;00m \u001b[38;5;21;01mpandas\u001b[39;00m\u001b[38;5;21;01m.\u001b[39;00m\u001b[38;5;21;01mcore\u001b[39;00m\u001b[38;5;21;01m.\u001b[39;00m\u001b[38;5;21;01mcomputation\u001b[39;00m\u001b[38;5;21;01m.\u001b[39;00m\u001b[38;5;21;01mapi\u001b[39;00m \u001b[38;5;28;01mimport\u001b[39;00m \u001b[38;5;28meval\u001b[39m\n\u001b[1;32m    119\u001b[0m \u001b[38;5;28;01mfrom\u001b[39;00m \u001b[38;5;21;01mpandas\u001b[39;00m\u001b[38;5;21;01m.\u001b[39;00m\u001b[38;5;21;01mcore\u001b[39;00m\u001b[38;5;21;01m.\u001b[39;00m\u001b[38;5;21;01mreshape\u001b[39;00m\u001b[38;5;21;01m.\u001b[39;00m\u001b[38;5;21;01mapi\u001b[39;00m \u001b[38;5;28;01mimport\u001b[39;00m (\n\u001b[1;32m    120\u001b[0m     concat,\n\u001b[1;32m    121\u001b[0m     lreshape,\n\u001b[0;32m   (...)\u001b[0m\n\u001b[1;32m    132\u001b[0m     qcut,\n\u001b[1;32m    133\u001b[0m )\n\u001b[0;32m--> 135\u001b[0m \u001b[38;5;28;01mfrom\u001b[39;00m \u001b[38;5;21;01mpandas\u001b[39;00m \u001b[38;5;28;01mimport\u001b[39;00m api, arrays, errors, io, plotting, testing, tseries\n\u001b[1;32m    136\u001b[0m \u001b[38;5;28;01mfrom\u001b[39;00m \u001b[38;5;21;01mpandas\u001b[39;00m\u001b[38;5;21;01m.\u001b[39;00m\u001b[38;5;21;01mutil\u001b[39;00m\u001b[38;5;21;01m.\u001b[39;00m\u001b[38;5;21;01m_print_versions\u001b[39;00m \u001b[38;5;28;01mimport\u001b[39;00m show_versions\n\u001b[1;32m    138\u001b[0m \u001b[38;5;28;01mfrom\u001b[39;00m \u001b[38;5;21;01mpandas\u001b[39;00m\u001b[38;5;21;01m.\u001b[39;00m\u001b[38;5;21;01mio\u001b[39;00m\u001b[38;5;21;01m.\u001b[39;00m\u001b[38;5;21;01mapi\u001b[39;00m \u001b[38;5;28;01mimport\u001b[39;00m (\n\u001b[1;32m    139\u001b[0m     \u001b[38;5;66;03m# excel\u001b[39;00m\n\u001b[1;32m    140\u001b[0m     ExcelFile,\n\u001b[0;32m   (...)\u001b[0m\n\u001b[1;32m    168\u001b[0m     read_spss,\n\u001b[1;32m    169\u001b[0m )\n",
      "File \u001b[0;32m~/anaconda3/envs/spid/lib/python3.9/site-packages/pandas/testing.py:6\u001b[0m, in \u001b[0;36m<module>\u001b[0;34m\u001b[0m\n\u001b[1;32m      1\u001b[0m \u001b[38;5;124;03m\"\"\"\u001b[39;00m\n\u001b[1;32m      2\u001b[0m \u001b[38;5;124;03mPublic testing utility functions.\u001b[39;00m\n\u001b[1;32m      3\u001b[0m \u001b[38;5;124;03m\"\"\"\u001b[39;00m\n\u001b[0;32m----> 6\u001b[0m \u001b[38;5;28;01mfrom\u001b[39;00m \u001b[38;5;21;01mpandas\u001b[39;00m\u001b[38;5;21;01m.\u001b[39;00m\u001b[38;5;21;01m_testing\u001b[39;00m \u001b[38;5;28;01mimport\u001b[39;00m (\n\u001b[1;32m      7\u001b[0m     assert_extension_array_equal,\n\u001b[1;32m      8\u001b[0m     assert_frame_equal,\n\u001b[1;32m      9\u001b[0m     assert_index_equal,\n\u001b[1;32m     10\u001b[0m     assert_series_equal,\n\u001b[1;32m     11\u001b[0m )\n\u001b[1;32m     13\u001b[0m __all__ \u001b[38;5;241m=\u001b[39m [\n\u001b[1;32m     14\u001b[0m     \u001b[38;5;124m\"\u001b[39m\u001b[38;5;124massert_extension_array_equal\u001b[39m\u001b[38;5;124m\"\u001b[39m,\n\u001b[1;32m     15\u001b[0m     \u001b[38;5;124m\"\u001b[39m\u001b[38;5;124massert_frame_equal\u001b[39m\u001b[38;5;124m\"\u001b[39m,\n\u001b[1;32m     16\u001b[0m     \u001b[38;5;124m\"\u001b[39m\u001b[38;5;124massert_series_equal\u001b[39m\u001b[38;5;124m\"\u001b[39m,\n\u001b[1;32m     17\u001b[0m     \u001b[38;5;124m\"\u001b[39m\u001b[38;5;124massert_index_equal\u001b[39m\u001b[38;5;124m\"\u001b[39m,\n\u001b[1;32m     18\u001b[0m ]\n",
      "File \u001b[0;32m~/anaconda3/envs/spid/lib/python3.9/site-packages/pandas/_testing/__init__.py:979\u001b[0m, in \u001b[0;36m<module>\u001b[0;34m\u001b[0m\n\u001b[1;32m    974\u001b[0m     \u001b[38;5;28;01mimport\u001b[39;00m \u001b[38;5;21;01mpytest\u001b[39;00m\n\u001b[1;32m    976\u001b[0m     \u001b[38;5;28;01mreturn\u001b[39;00m pytest\u001b[38;5;241m.\u001b[39mraises(expected_exception, match\u001b[38;5;241m=\u001b[39m\u001b[38;5;28;01mNone\u001b[39;00m)  \u001b[38;5;66;03m# noqa: PDF010\u001b[39;00m\n\u001b[0;32m--> 979\u001b[0m cython_table \u001b[38;5;241m=\u001b[39m \u001b[43mpd\u001b[49m\u001b[38;5;241;43m.\u001b[39;49m\u001b[43mcore\u001b[49m\u001b[38;5;241m.\u001b[39mcommon\u001b[38;5;241m.\u001b[39m_cython_table\u001b[38;5;241m.\u001b[39mitems()\n\u001b[1;32m    982\u001b[0m \u001b[38;5;28;01mdef\u001b[39;00m \u001b[38;5;21mget_cython_table_params\u001b[39m(ndframe, func_names_and_expected):\n\u001b[1;32m    983\u001b[0m     \u001b[38;5;124;03m\"\"\"\u001b[39;00m\n\u001b[1;32m    984\u001b[0m \u001b[38;5;124;03m    Combine frame, functions from com._cython_table\u001b[39;00m\n\u001b[1;32m    985\u001b[0m \u001b[38;5;124;03m    keys and expected result.\u001b[39;00m\n\u001b[0;32m   (...)\u001b[0m\n\u001b[1;32m    997\u001b[0m \u001b[38;5;124;03m        List of three items (DataFrame, function, expected result)\u001b[39;00m\n\u001b[1;32m    998\u001b[0m \u001b[38;5;124;03m    \"\"\"\u001b[39;00m\n",
      "\u001b[0;31mAttributeError\u001b[0m: partially initialized module 'pandas' has no attribute 'core' (most likely due to a circular import)"
     ]
    }
   ],
   "source": [
    "from src.training import _load_features, _load_labels, _remove_duplicate_labels"
   ]
  },
  {
   "cell_type": "code",
   "execution_count": 4,
   "id": "3764dcc2-60fa-44f0-a13b-d0e8769a27a3",
   "metadata": {},
   "outputs": [
    {
     "name": "stdout",
     "output_type": "stream",
     "text": [
      "/home/marco/speaker_identification\n"
     ]
    }
   ],
   "source": [
    "%cd /home/marco/speaker_identification\n",
    "features = _load_features(first_n_files=4)"
   ]
  },
  {
   "cell_type": "code",
   "execution_count": null,
   "id": "c53c7200-f324-4bb5-818f-6968c244ad31",
   "metadata": {},
   "outputs": [],
   "source": []
  },
  {
   "cell_type": "code",
   "execution_count": 18,
   "id": "58949b16-44bf-4f6c-ac23-f30e9f865f74",
   "metadata": {},
   "outputs": [],
   "source": [
    "df_labels = _load_labels()\n",
    "df_labels = _remove_duplicate_labels(df_labels)"
   ]
  },
  {
   "cell_type": "code",
   "execution_count": 19,
   "id": "b820106e-cba9-48c8-9b41-df91b37b124c",
   "metadata": {},
   "outputs": [
    {
     "data": {
      "text/html": [
       "<div>\n",
       "<style scoped>\n",
       "    .dataframe tbody tr th:only-of-type {\n",
       "        vertical-align: middle;\n",
       "    }\n",
       "\n",
       "    .dataframe tbody tr th {\n",
       "        vertical-align: top;\n",
       "    }\n",
       "\n",
       "    .dataframe thead th {\n",
       "        text-align: right;\n",
       "    }\n",
       "</style>\n",
       "<table border=\"1\" class=\"dataframe\">\n",
       "  <thead>\n",
       "    <tr style=\"text-align: right;\">\n",
       "      <th></th>\n",
       "      <th>filename</th>\n",
       "      <th>label_date</th>\n",
       "      <th>label_time</th>\n",
       "      <th>label</th>\n",
       "    </tr>\n",
       "  </thead>\n",
       "  <tbody>\n",
       "    <tr>\n",
       "      <th>0</th>\n",
       "      <td>PTT-20200113-WA0016</td>\n",
       "      <td>20220824</td>\n",
       "      <td>101700</td>\n",
       "      <td>Person 1</td>\n",
       "    </tr>\n",
       "    <tr>\n",
       "      <th>1</th>\n",
       "      <td>PTT-20200116-WA0000</td>\n",
       "      <td>20220824</td>\n",
       "      <td>101730</td>\n",
       "      <td>Person 2</td>\n",
       "    </tr>\n",
       "    <tr>\n",
       "      <th>2</th>\n",
       "      <td>PTT-20200117-WA0007</td>\n",
       "      <td>20220824</td>\n",
       "      <td>101800</td>\n",
       "      <td>Person 2</td>\n",
       "    </tr>\n",
       "    <tr>\n",
       "      <th>3</th>\n",
       "      <td>PTT-20200119-WA0013</td>\n",
       "      <td>20220824</td>\n",
       "      <td>101830</td>\n",
       "      <td>Person 1</td>\n",
       "    </tr>\n",
       "  </tbody>\n",
       "</table>\n",
       "</div>"
      ],
      "text/plain": [
       "              filename  label_date  label_time     label\n",
       "0  PTT-20200113-WA0016    20220824      101700  Person 1\n",
       "1  PTT-20200116-WA0000    20220824      101730  Person 2\n",
       "2  PTT-20200117-WA0007    20220824      101800  Person 2\n",
       "3  PTT-20200119-WA0013    20220824      101830  Person 1"
      ]
     },
     "execution_count": 19,
     "metadata": {},
     "output_type": "execute_result"
    }
   ],
   "source": [
    "labels"
   ]
  },
  {
   "cell_type": "code",
   "execution_count": 7,
   "id": "9fffc485-4abd-4951-aaf8-7a7b7df7ec2b",
   "metadata": {},
   "outputs": [],
   "source": [
    "from matplotlib import pyplot as plt"
   ]
  },
  {
   "cell_type": "code",
   "execution_count": 9,
   "id": "78b744e6-3119-4474-8e1f-f7ad1424998d",
   "metadata": {},
   "outputs": [],
   "source": [
    "# Return the (g,h) index of the BMU in the grid\n",
    "def find_BMU(SOM, x):\n",
    "    distSq = (np.square(SOM - x)).sum(axis=2)\n",
    "    return np.unravel_index(np.argmin(distSq, axis=None), distSq.shape)\n",
    "    \n",
    "# Update the weights of the SOM cells when given a single training example\n",
    "# and the model parameters along with BMU coordinates as a tuple\n",
    "def update_weights(SOM, train_ex, learn_rate, radius_sq, \n",
    "                   BMU_coord, step=3):\n",
    "    g, h = BMU_coord\n",
    "    #if radius is close to zero then only BMU is changed\n",
    "    if radius_sq < 1e-3:\n",
    "        SOM[g,h,:] += learn_rate * (train_ex - SOM[g,h,:])\n",
    "        return SOM\n",
    "    # Change all cells in a small neighborhood of BMU\n",
    "    for i in range(max(0, g-step), min(SOM.shape[0], g+step)):\n",
    "        for j in range(max(0, h-step), min(SOM.shape[1], h+step)):\n",
    "            dist_sq = np.square(i - g) + np.square(j - h)\n",
    "            dist_func = np.exp(-dist_sq / 2 / radius_sq)\n",
    "            SOM[i,j,:] += learn_rate * dist_func * (train_ex - SOM[i,j,:])   \n",
    "    return SOM    \n",
    "\n",
    "# Main routine for training an SOM. It requires an initialized SOM grid\n",
    "# or a partially trained grid as parameter\n",
    "def train_SOM(SOM, train_data, learn_rate = .1, radius_sq = 1, \n",
    "             lr_decay = .1, radius_decay = .1, epochs = 10):    \n",
    "    learn_rate_0 = learn_rate\n",
    "    radius_0 = radius_sq\n",
    "    for epoch in np.arange(0, epochs):\n",
    "        rand.shuffle(train_data)      \n",
    "        for train_ex in train_data:\n",
    "            g, h = find_BMU(SOM, train_ex)\n",
    "            SOM = update_weights(SOM, train_ex, \n",
    "                                 learn_rate, radius_sq, (g,h))\n",
    "        # Update learning rate and radius\n",
    "        learn_rate = learn_rate_0 * np.exp(-epoch * lr_decay)\n",
    "        radius_sq = radius_0 * np.exp(-epoch * radius_decay)            \n",
    "    return SOM"
   ]
  },
  {
   "cell_type": "code",
   "execution_count": 10,
   "id": "3e0ba9b7-52cd-4c98-a5ef-f9b2e6a1f639",
   "metadata": {},
   "outputs": [
    {
     "data": {
      "text/plain": [
       "array([[172,  47, 117],\n",
       "       [192,  67, 251],\n",
       "       [195, 103,   9],\n",
       "       ...,\n",
       "       [173,  62,  10],\n",
       "       [ 94,  96, 213],\n",
       "       [104,  54,  94]])"
      ]
     },
     "execution_count": 10,
     "metadata": {},
     "output_type": "execute_result"
    }
   ],
   "source": [
    "# Dimensions of the SOM grid\n",
    "m = 10\n",
    "n = 10\n",
    "dim = 3\n",
    "# Number of training examples\n",
    "n_x = 3000\n",
    "rand = np.random.RandomState(0)\n",
    "# Initialize the training data\n",
    "train_data = rand.randint(0, 255, (n_x, dim))\n",
    "\n",
    "train_data"
   ]
  },
  {
   "cell_type": "code",
   "execution_count": 11,
   "id": "596061af-cdda-4174-9a51-4e36f6c6e0a2",
   "metadata": {},
   "outputs": [],
   "source": [
    "SOM = rand.randint(0, 255, (m, n, dim)).astype(float)"
   ]
  },
  {
   "cell_type": "code",
   "execution_count": 12,
   "id": "d07a1a50-b946-4e79-a385-4fba2ab6181e",
   "metadata": {},
   "outputs": [
    {
     "data": {
      "image/png": "[encoded data removed]",
      "text/plain": [
       "<Figure size 1080x252 with 4 Axes>"
      ]
     },
     "metadata": {},
     "output_type": "display_data"
    }
   ],
   "source": [
    "fig, ax = plt.subplots(\n",
    "    nrows=1, ncols=4, figsize=(15, 3.5), \n",
    "    subplot_kw=dict(xticks=[], yticks=[]))\n",
    "total_epochs = 0\n",
    "for epochs, i in zip([1, 4, 5, 10], range(0,4)):\n",
    "    total_epochs += epochs\n",
    "    SOM = train_SOM(SOM, train_data, epochs=epochs)\n",
    "    ax[i].imshow(SOM.astype(int))\n",
    "    ax[i].title.set_text('Epochs = ' + str(total_epochs))"
   ]
  }
 ],
 "metadata": {
  "kernelspec": {
   "display_name": "Python 3 (ipykernel)",
   "language": "python",
   "name": "python3"
  },
  "language_info": {
   "codemirror_mode": {
    "name": "ipython",
    "version": 3
   },
   "file_extension": ".py",
   "mimetype": "text/x-python",
   "name": "python",
   "nbconvert_exporter": "python",
   "pygments_lexer": "ipython3",
   "version": "3.9.12"
  },
  "vscode": {
   "interpreter": {
    "hash": "91f5f406c924ecc9c57c7db9dfe6afc4a90e0b4a747c2fe3ab0a8e06e6a530eb"
   }
  }
 },
 "nbformat": 4,
 "nbformat_minor": 5
}
